{
 "cells": [
  {
   "cell_type": "code",
   "execution_count": 403,
   "metadata": {
    "colab": {
     "base_uri": "https://localhost:8080/"
    },
    "id": "QeTd8dYPXdmL",
    "outputId": "874b4ad5-1954-4065-94c0-710c9b830d28"
   },
   "outputs": [],
   "source": [
    "import re\n",
    "import os\n",
    "import pandas as pd\n",
    "\n",
    "# drive.mount('/content/drive/', force_remount=True)"
   ]
  },
  {
   "cell_type": "markdown",
   "metadata": {
    "id": "_2Oxbm8cyAGD"
   },
   "source": [
    "\n",
    "## Import data"
   ]
  },
  {
   "cell_type": "code",
   "execution_count": 450,
   "metadata": {
    "colab": {
     "base_uri": "https://localhost:8080/"
    },
    "id": "tt0-8zOUt-aa",
    "outputId": "62a8eafc-fd9c-4487-d1f7-a595db7ebce9"
   },
   "outputs": [
    {
     "name": "stdout",
     "output_type": "stream",
     "text": [
      "Index(['Property Name', 'Reported', 'Property Type', 'Address', 'ZIP',\n",
      "       ' Gross Area (sq ft) ', 'Site EUI (kBTU/sf)', 'Energy Star Score',\n",
      "       'Energy Star Certified', 'Property Uses', 'Year Built',\n",
      "       ' GHG Emissions (MTCO2e) ', 'GHG Intensity (kgCO2/sf)',\n",
      "       ' Total Site Energy (kBTU) ', '% Electricity', '% Gas', '% Steam',\n",
      "       'Water Intensity (gal/sf)', ' Onsite Renewable (kWh) ',\n",
      "       'User Submitted Info', 'User Submitted Link', 'Tax Parcel',\n",
      "       'Years Reported',\n",
      "       'Covered by 5 Year Energy Action and Assessment Required in 2019',\n",
      "       '5 Year Energy Action and Assessment Compliance Status', 'Year'],\n",
      "      dtype='object')\n",
      "Index(['Property Name', 'Reported', 'Tax Parcel', 'Property Type', 'Address',\n",
      "       ' Zip', 'Gross Area (sq ft) \\n', 'Site EUI (kBtu/ft²)',\n",
      "       'ENERGY STAR Score', 'Energy Star Certified', 'Property Uses',\n",
      "       'Year Built', 'GHG Emissions (MTCO2e)', 'GHG Intensity (kgCO2/sf)',\n",
      "       'Total Site Energy (kBTU)', '% Electricity', '% Gas', '% Steam',\n",
      "       '% Fuel Oil', '% District Hot Water', '% District Chilled Water',\n",
      "       '% Other (Diesel #2, Kerosene, Propane or Other Fuel)',\n",
      "       'Water Intensity (gal/sf)', 'Onsite Renewable (kWh)',\n",
      "       'User Submitted Info', 'User Submitted Link', 'Year'],\n",
      "      dtype='object')\n",
      "Index(['Property Name', 'Reported', 'Property Type', 'Address', 'ZIP',\n",
      "       'Gross Area (sq ft)', 'Site EUI (kBTU/sf)', 'Energy Star Score',\n",
      "       'Energy Star Certified', 'Property Uses', 'Year Built',\n",
      "       'GHG Emissions (MTCO2e)', 'GHG Intensity (kgCO2/sf)',\n",
      "       'Total Site Energy (kBTU)', '% Electricity', '% Gas', '% Steam',\n",
      "       'Water Intensity (gal/sf)', 'Onsite Solar (kWh)', 'User Submitted Info',\n",
      "       'User Submitted Link', 'Tax Parcel', 'Years Reported', 'Year'],\n",
      "      dtype='object')\n",
      "Index(['Property Name', 'Reported', 'Property Type', 'Address', 'ZIP',\n",
      "       ' Gross Area (sq ft) ', 'Site EUI (kBTU/sf)', 'Energy Star Score',\n",
      "       'Energy Star Certified', 'Property Uses', 'Year Built',\n",
      "       ' GHG Emissions (MTCO2e) ', 'GHG Intensity (kgCO2/sf)',\n",
      "       ' Total Site Energy (kBTU) ', '% Electricity', '% Gas', '% Steam',\n",
      "       '% Fuel Oil', '% District Hot Water ', '% District Chilled Water',\n",
      "       'Water Intensity (gal/sf)', ' Onsite Renewable (kWh) ',\n",
      "       'User Submitted Info', 'User Submitted Link', 'Tax Parcel',\n",
      "       'Years Reported',\n",
      "       'Covered by 5 Year Energy Action and Assessment Required in 2020',\n",
      "       '5 Year Energy Action and Assessment Compliance Status', 'Year'],\n",
      "      dtype='object')\n"
     ]
    }
   ],
   "source": [
    "imported_sheets = []\n",
    "for f in os.listdir(\"Data\"):\n",
    "  if f.split(\".\")[-1] == \"xlsx\":\n",
    "    n = pd.read_excel(f\"Data/{f}\")\n",
    "    for part in re.split(\"\\.|-\", f) : # split up filename by \"-\", to find the year part\n",
    "      if part.isnumeric(): # check if its the year... years are in the front or back of the file name\n",
    "        n[\"Year\"] = int(part) # Add column name for year\n",
    "        imported_sheets.append(n)\n",
    "\n",
    "\n",
    "for imported_sheet in imported_sheets:\n",
    "  if len(imported_sheet.columns) == 24: # set sheet without column names\n",
    "    imported_sheet.columns = [\"Property Name\",\t\"Reported\",\t\"Property Type\",\"Address\", \"ZIP\", \n",
    "                 \"Gross Area (sq ft)\",\"Site EUI (kBTU/sf)\",\"Energy Star Score\", \n",
    "                 \"Energy Star Certified\",\t\"Property Uses\", \"Year Built\",\t\n",
    "                 \"GHG Emissions (MTCO2e)\",\t\"GHG Intensity (kgCO2/sf)\",\t\n",
    "                 \"Total Site Energy (kBTU)\" ,\"% Electricity\",\"% Gas\", \"% Steam\",\n",
    "                 \"Water Intensity (gal/sf)\", \"Onsite Solar (kWh)\", \n",
    "                 \"User Submitted Info\", \"User Submitted Link\", \"Tax Parcel\",\n",
    "                 \"Years Reported\", \"Year\"]\n",
    "  print(imported_sheet.columns)\n"
   ]
  },
  {
   "cell_type": "code",
   "execution_count": 451,
   "metadata": {
    "id": "u_8PKScnaYM6"
   },
   "outputs": [],
   "source": [
    "def clean_zip(zip):\n",
    "  # bad zips either start with ` or are seperated by -\n",
    "  if isinstance(zip,str) and zip != \"ZIP\":\n",
    "    a = re.split(\"'|-\", str(zip))\n",
    "    return int(a[0]) if a[0] else int(a[1]) # return a[0] if the zip is sep by -, a[1] for `\n",
    "  else:\n",
    "    return 'nan'\n",
    "\n",
    "# Clean all the sheets\n",
    "cleaned_columns_sheets = []\n",
    "index = 0\n",
    "for imported_sheet in imported_sheets: # for regression, we need to change the 'Property Type' string into a number\n",
    "  # It will run for only first imported sheet. Assuming every sheet has same property types\n",
    "  if index == 0:\n",
    "    uniq_property_type = list(imported_sheet['Property Type'].unique())\n",
    "    # Creating dict of property type elements\n",
    "    uniq_dict = {x : i for i, x in enumerate(uniq_property_type)}\n",
    "  mapped_prop = []\n",
    "  for i in imported_sheet['Property Type']:\n",
    "    mapped_prop.append(uniq_dict[i])\n",
    "  # mapping property type to number that we got from dict\n",
    "  imported_sheet['Property Type'] = mapped_prop\n",
    "  imported_sheet['Property Name'].str.strip() # clean any spaces from Property_Name\n",
    "  imported_sheet_cleaned = imported_sheet.rename(columns=lambda x: x.strip()) # clean spaces from column names\n",
    "  imported_sheet_cleaned = imported_sheet_cleaned.rename(columns={\"Zip\": \"ZIP\"}, errors=\"ignore\") # rename df with \"Zip\" not \"ZIP\" column name\n",
    "  imported_sheet_cleaned[\"ZIP\"].apply(clean_zip) # clean ZIP column\n",
    "  cleaned_columns_sheets.append(imported_sheet_cleaned)\n",
    "  "
   ]
  },
  {
   "cell_type": "code",
   "execution_count": 452,
   "metadata": {
    "id": "LGDDIvYbGRgn"
   },
   "outputs": [],
   "source": [
    "# merge sheets\n",
    "merged = pd.concat(cleaned_columns_sheets, join=\"inner\")\n",
    "# Drop rows with null values for important columns\n",
    "merged.drop(merged[merged['Total Site Energy (kBTU)'] == 'Not Available'].index, inplace=True)\n",
    "# Set 'Energy Star Certified' to a binary value\n",
    "merged.loc[merged['Energy Star Certified'].notnull(), 'Energy Star Certified'] = 1\n",
    "merged['Energy Star Certified'].fillna(0, inplace=True)\n",
    "\n",
    "merged['Year Built'] = pd.to_numeric(merged['Year Built'], downcast='integer', errors='coerce')\n",
    "merged['Gross Area (sq ft)'] = pd.to_numeric(merged['Gross Area (sq ft)'], downcast='integer', errors='coerce')\n",
    "merged.dropna(subset=[\"Property Name\", \"Total Site Energy (kBTU)\", \"GHG Emissions (MTCO2e)\", \"GHG Intensity (kgCO2/sf)\", \"Gross Area (sq ft)\"], inplace=True)"
   ]
  },
  {
   "cell_type": "markdown",
   "metadata": {
    "id": "HH6Wqe9XE0sA"
   },
   "source": [
    "\n",
    "# Regression"
   ]
  },
  {
   "cell_type": "code",
   "execution_count": 453,
   "metadata": {
    "colab": {
     "base_uri": "https://localhost:8080/"
    },
    "id": "E40-LDpF1m83",
    "outputId": "cb45cb5a-56d7-41c7-ad2b-22b7231356e9"
   },
   "outputs": [
    {
     "name": "stdout",
     "output_type": "stream",
     "text": [
      "{'Office': 4, 'Other - Education': 5, 'Residence Hall/Dormitory': 7, 'Multifamily Housing': 8, 'Other': 10}\n",
      "    Property Type  Gross Area (sq ft)  Year Built\n",
      "7               4             44464.0      1899.0\n",
      "10              4             44000.0      1878.0\n",
      "11              5             69739.0      2004.0\n",
      "14              4             38000.0      1900.0\n",
      "15              4            261168.0      1920.0\n",
      "16              7            203204.0      1926.0\n",
      "17              8             96292.0      2002.0\n",
      "18              4            123678.0      2012.0\n",
      "22              4            124055.0      1908.0\n",
      "23              4            296176.0      2015.0\n",
      "24              4            550326.0      1988.0\n",
      "26              4            572998.0      2016.0\n",
      "27              4            473906.0      1988.0\n",
      "29              4            585345.0      1972.0\n",
      "30              4            159272.0      1990.0\n",
      "31              4            620642.0      2015.0\n",
      "32              4             48905.0      1899.0\n",
      "33              4             80344.0      1901.0\n",
      "34              4            195000.0      2000.0\n",
      "35              7             66456.0      1924.0\n",
      "7      3387295.9\n",
      "10     4658417.7\n",
      "11     2469891.3\n",
      "14     2099052.8\n",
      "15    30925692.5\n",
      "16    10490887.5\n",
      "17    10093352.2\n",
      "18    17583759.3\n",
      "22     7516025.1\n",
      "23    32644854.9\n",
      "24    34141116.2\n",
      "26      44834873\n",
      "27      29241951\n",
      "29    45881815.7\n",
      "30    11127404.3\n",
      "31    33374468.1\n",
      "32     3145530.5\n",
      "33     5168309.4\n",
      "34     7760513.7\n",
      "35     5906604.3\n",
      "Name: Total Site Energy (kBTU), dtype: object\n"
     ]
    }
   ],
   "source": [
    "from sklearn.preprocessing import StandardScaler\n",
    "from sklearn.model_selection import cross_val_score\n",
    "import numpy as np\n",
    "\n",
    "\n",
    "quantile = 0.97\n",
    "quantile_split = merged[merged['Total Site Energy (kBTU)'] <= merged['Total Site Energy (kBTU)'].quantile(quantile)]\n",
    "counts = quantile_split['Property Type'].value_counts() > 200 # find property types that have over 200 samples\n",
    "prop_catagories = dict()\n",
    "\n",
    "# Iterate over all the items in dictionary and filter items which has even keys\n",
    "for (key, value) in uniq_dict.items():\n",
    "   # make new dict\n",
    "   if value == 8 or value == 7 or value == 5 or value == 4 or value == 10:\n",
    "       prop_catagories[key] = value\n",
    "\n",
    "print(prop_catagories)\n",
    "quantile_split = (quantile_split[(quantile_split['Property Type'] == 8) | (quantile_split['Property Type'] == 7) | (quantile_split['Property Type'] == 5) | (quantile_split['Property Type'] == 4) | (quantile_split['Property Type'] == 10) ])\n",
    "\n",
    "\n",
    "X = quantile_split[['Property Type', 'Gross Area (sq ft)', 'Year Built']]\n",
    "y = quantile_split['Total Site Energy (kBTU)']\n",
    "# y = y.astype('int64')\n",
    "print(X.head(20))\n",
    "print(y.head(20))"
   ]
  },
  {
   "cell_type": "code",
   "execution_count": 467,
   "metadata": {
    "colab": {
     "base_uri": "https://localhost:8080/",
     "height": 293
    },
    "id": "rOYF0_Gr5nuE",
    "outputId": "7380ee29-c3be-40e2-e5fb-a21a076783a2"
   },
   "outputs": [
    {
     "data": {
      "text/plain": "Text(0.5, 0, 'index')"
     },
     "execution_count": 467,
     "metadata": {},
     "output_type": "execute_result"
    },
    {
     "data": {
      "text/plain": "<Figure size 432x288 with 1 Axes>",
      "image/png": "[encoded data removed]"
     },
     "metadata": {
      "needs_background": "light"
     },
     "output_type": "display_data"
    }
   ],
   "source": [
    "from matplotlib import pyplot as plt\n",
    "plt.plot(y, '.')\n",
    "# y.plot(style='.')\n",
    "plt.legend(['Distribution of Predicted Values in dataset'])\n",
    "plt.ylabel(\"Energy Usage (KW/h)\")\n",
    "plt.xlabel(\"index\")"
   ]
  },
  {
   "cell_type": "code",
   "execution_count": 455,
   "outputs": [],
   "source": [
    "from sklearn.linear_model import ElasticNetCV\n",
    "from sklearn.pipeline import make_pipeline\n",
    "import warnings\n",
    "warnings.filterwarnings(\"ignore\", category=UserWarning)\n",
    "alpha_elastic = [0.0089591]\n",
    "elastic = make_pipeline(StandardScaler(), ElasticNetCV(cv=None, alphas=alpha_elastic))\n",
    "elastic.fit(X, y)\n",
    "\n",
    "def estimate_total_energy(property_type, sq_footage, year):\n",
    "    try:\n",
    "        prop_num = uniq_dict[property_type]\n",
    "    except KeyError:\n",
    "        raise ValueError(f\"{property_type} is not estimated\")\n",
    "    return elastic.predict([[prop_num, sq_footage, year]])[0]"
   ],
   "metadata": {
    "collapsed": false,
    "pycharm": {
     "name": "#%%\n"
    }
   }
  },
  {
   "cell_type": "code",
   "execution_count": 456,
   "outputs": [
    {
     "data": {
      "text/plain": "Text(0, 0.5, 'Square Footage (ft)')"
     },
     "execution_count": 456,
     "metadata": {},
     "output_type": "execute_result"
    },
    {
     "data": {
      "text/plain": "<Figure size 432x288 with 1 Axes>",
      "image/png": "[encoded data removed]"
     },
     "metadata": {
      "needs_background": "light"
     },
     "output_type": "display_data"
    }
   ],
   "source": [
    "from matplotlib import pyplot as plt\n",
    "\n",
    "sq_footage = np.linspace(5000, 500000, 5)\n",
    "# sq_footage = np.logspace(1, 10, 5)\n",
    "\n",
    "X = [estimate_total_energy('Multifamily Housing', sq_footage[0], 2020), estimate_total_energy('Multifamily Housing', sq_footage[1], 2020), estimate_total_energy('Multifamily Housing', sq_footage[2], 2020), estimate_total_energy('Multifamily Housing', sq_footage[3], 2020), estimate_total_energy('Multifamily Housing', sq_footage[4], 2020)]\n",
    "plt.plot(X, sq_footage)\n",
    "plt.legend(['Square Footage (ft) x Energy Usage (KW/h'])\n",
    "plt.xlabel(\"Energy Usage (KW/h)\")\n",
    "plt.ylabel(\"Square Footage (ft)\")\n",
    "# plt.legend()\n"
   ],
   "metadata": {
    "collapsed": false,
    "pycharm": {
     "name": "#%%\n"
    }
   }
  },
  {
   "cell_type": "code",
   "execution_count": 423,
   "outputs": [
    {
     "name": "stdout",
     "output_type": "stream",
     "text": [
      "Ridge avg r^2: 0.702481643027445\n",
      "ElasticNet avg r^2: 0.7024709552684725\n",
      "Lasso avg r^2: 0.7030448790308842\n"
     ]
    }
   ],
   "source": [
    "from sklearn.pipeline import make_pipeline\n",
    "from sklearn.linear_model import ElasticNetCV, LassoCV, RidgeCV\n",
    "alpha_ridge = [14.6]\n",
    "# alpha_ridge = np.linspace(.1, 1000, 100)\n",
    "alpha_lasso = [190106]\n",
    "# alpha_lasso = np.logspace(5, 10, 100)\n",
    "alpha_elastic = [0.0089591] # 0.4347726551518415\n",
    "# alpha_elastic = np.linspace(.0001, 5, 100)\n",
    "\n",
    "# elastic\n",
    "# alphas = np.linspace(.03, .06, 100)\n",
    "# modal = make_pipeline(StandardScaler(), RidgeCV(cv=None, alphas=alphas, alpha_per_target=True, store_cv_values=True))\n",
    "ridge = make_pipeline(StandardScaler(), RidgeCV(cv=None, alphas=alpha_ridge))\n",
    "lasso = make_pipeline(StandardScaler(), LassoCV(cv=None, alphas=alpha_lasso))\n",
    "elastic = make_pipeline(StandardScaler(), ElasticNetCV(cv=None, alphas=alpha_elastic))\n",
    "\n",
    "# lasso = Lasso(random_state=0, max_ridgeiter=100000)\n",
    "ridge.fit(X, y)\n",
    "lasso.fit(X, y)\n",
    "elastic.fit(X, y)\n",
    "scores = {\n",
    "    \"ridge\": cross_val_score(ridge, X, y, scoring=\"r2\", cv=None),\n",
    "    \"elastic\": cross_val_score(elastic, X, y, scoring=\"r2\", cv=None),\n",
    "    \"lasso\": cross_val_score(lasso, X, y, scoring=\"r2\", cv=None)\n",
    "}\n",
    "print(f\"Ridge avg r^2: {np.average(scores['ridge'])}\")\n",
    "print(f\"ElasticNet avg r^2: {np.average(scores['elastic'])}\")\n",
    "print(f\"Lasso avg r^2: {np.average(scores['lasso'])}\")"
   ],
   "metadata": {
    "collapsed": false,
    "pycharm": {
     "name": "#%%\n"
    }
   }
  }
 ],
 "metadata": {
  "colab": {
   "name": "Final Project.ipynb",
   "provenance": []
  },
  "kernelspec": {
   "display_name": "Python 3",
   "language": "python",
   "name": "python3"
  },
  "language_info": {
   "name": "python"
  }
 },
 "nbformat": 4,
 "nbformat_minor": 1
}